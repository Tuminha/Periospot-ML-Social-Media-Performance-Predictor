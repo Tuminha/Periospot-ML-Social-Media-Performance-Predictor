{
  "cells": [
    {
      "cell_type": "markdown",
      "metadata": {},
      "source": [
        "# Predicting High-Performance Social Posts (Binary) — Periospot\n",
        "\n",
        "**Question:** Using only **pre-posting** signals, can we predict if a post will be a **High Performer**?  \n",
        "\n",
        "**Decisions:** Threshold chosen empirically during EDA; Tree ensembles (RF/XGBoost) as main tuned family.  \n",
        "\n",
        "**Anti-leakage:** No post-outcome columns (impressions/engagements/reach) in features.\n"
      ]
    },
    {
      "cell_type": "code",
      "execution_count": 126,
      "metadata": {},
      "outputs": [],
      "source": [
        "# TODO: imports\n",
        "import pandas as pd, numpy as np\n",
        "from pathlib import Path\n",
        "import sys\n",
        "sys.path.append(\"..\")  # or use the relative path to where 'src' is located\n",
        "from src import features, labeling, evaluation, utils\n",
        "\n",
        "# TODO: define paths\n",
        "ROOT = Path(\"..\").resolve().parent / \"periospot_ml_social_media_performance\"\n",
        "RAW = ROOT / \"data\" / \"raw\"\n",
        "ART = ROOT / \"artifacts\"\n",
        "# HINT: ensure ART exists\n",
        "ART.mkdir(parents=True, exist_ok=True)\n"
      ]
    },
    {
      "cell_type": "markdown",
      "metadata": {},
      "source": [
        "## Load Data & Initial Checks\n",
        "\n",
        "We load post-level data. We'll inspect columns, NA rates, and confirm which columns are \"pre-posting\" vs \"post-outcome\".\n"
      ]
    },
    {
      "cell_type": "code",
      "execution_count": 127,
      "metadata": {},
      "outputs": [
        {
          "name": "stdout",
          "output_type": "stream",
          "text": [
            "Dataset shape: (8434, 67)\n",
            "Date range: 1/1/2021 12:35 am to 9/9/2025 9:46 am\n",
            "\n",
            "Total columns: 67\n",
            "\n",
            "=== TOP 80 HIGHEST MISSING RATES (Expected - Platform/Content Specific) ===\n",
            "Poll Votes                  1.000000\n",
            "SproutLink Clicks           1.000000\n",
            "Hashtag Video Views         1.000000\n",
            "Organic Full Video Views    0.997629\n",
            "Paid Partial Video Views    0.997629\n",
            "                              ...   \n",
            "Post ID                     0.000000\n",
            "Profile                     0.000000\n",
            "Sent by                     0.000000\n",
            "Link                        0.000000\n",
            "Date                        0.000000\n",
            "Length: 67, dtype: float64\n",
            "\n",
            "=== COLUMNS WITH <10% MISSING (The Useful Ones!) ===\n",
            "Date            0.000000\n",
            "Post ID         0.000000\n",
            "Network         0.000000\n",
            "Post Type       0.000000\n",
            "Content Type    0.000000\n",
            "Profile         0.000000\n",
            "Sent by         0.000000\n",
            "Link            0.000000\n",
            "Post            0.027152\n",
            "dtype: float64\n",
            "Total number of features: 67\n"
          ]
        }
      ],
      "source": [
        "# Load raw post performance CSV\n",
        "df = pd.read_csv(RAW / \"post_performance.csv\", low_memory=False)\n",
        "\n",
        "print(f\"Dataset shape: {df.shape}\")\n",
        "print(f\"Date range: {df['Date'].min()} to {df['Date'].max()}\")\n",
        "print(f\"\\nTotal columns: {len(df.columns)}\")\n",
        "\n",
        "# Show the TOP 30 columns with HIGHEST missing rates (we just saw these - mostly video/platform-specific)\n",
        "print(\"\\n=== TOP 80 HIGHEST MISSING RATES (Expected - Platform/Content Specific) ===\")\n",
        "print(df.isna().mean().sort_values(ascending=False).head(70))\n",
        "\n",
        "# Now let's see the USEFUL columns (LOW missing rates)\n",
        "print(\"\\n=== COLUMNS WITH <10% MISSING (The Useful Ones!) ===\")\n",
        "low_missing = df.isna().mean().sort_values()\n",
        "print(low_missing[low_missing < 0.10])\n",
        "print(\"Total number of features:\", len(df.columns))\n"
      ]
    },
    {
      "cell_type": "markdown",
      "metadata": {},
      "source": [
        "### Column Analysis: Pre-Posting vs Post-Outcome\n",
        "\n",
        "Let's categorize columns to understand what we can safely use without leakage.\n"
      ]
    },
    {
      "cell_type": "code",
      "execution_count": 128,
      "metadata": {},
      "outputs": [
        {
          "name": "stdout",
          "output_type": "stream",
          "text": [
            "================================================================================\n",
            "✅ PRE-POSTING FEATURES (Safe to use):\n",
            "================================================================================\n",
            "  - Date (NA: 0.0%)\n",
            "  - Post ID (NA: 0.0%)\n",
            "  - Network (NA: 0.0%)\n",
            "  - Post Type (NA: 0.0%)\n",
            "  - Content Type (NA: 0.0%)\n",
            "  - Profile (NA: 0.0%)\n",
            "  - Post (NA: 2.7%)\n",
            "\n",
            "================================================================================\n",
            "❌ POST-OUTCOME METRICS (Leakage - DO NOT use as predictors):\n",
            "================================================================================\n",
            "  - Sent by (NA: 0.0%)\n",
            "  - Impressions (NA: 46.6%)\n",
            "  - Organic Impressions (NA: 57.2%)\n",
            "  - Paid Impressions (NA: 99.0%)\n",
            "  - Reach (NA: 93.2%)\n",
            "  - Organic Reach (NA: 93.7%)\n",
            "  - Paid Reach (NA: 99.0%)\n",
            "  - Potential Reach (NA: 52.5%)\n",
            "  - Engagement Rate (per Impression) (NA: 46.6%)\n",
            "  - Engagements (NA: 44.0%)\n",
            "  - Reactions (NA: 48.4%)\n",
            "  - Likes (NA: 48.4%)\n",
            "  - Dislikes (NA: 99.6%)\n",
            "  - Love Reactions (NA: 99.0%)\n",
            "  - Haha Reactions (NA: 99.0%)\n",
            "  - Wow Reactions (NA: 99.0%)\n",
            "  - Sad Reactions (NA: 99.0%)\n",
            "  - Angry Reactions (NA: 99.0%)\n",
            "  - Comments (NA: 44.0%)\n",
            "  - Shares (NA: 46.2%)\n",
            "  - Saves (NA: 99.1%)\n",
            "  - Post Link Clicks (NA: 93.8%)\n",
            "  - SproutLink Clicks (NA: 100.0%)\n",
            "  - Other Post Clicks (NA: 62.4%)\n",
            "  - Post Clicks (All) (NA: 62.6%)\n",
            "  - Other Engagements (NA: 63.4%)\n",
            "  - Subscribers Gained from Video (NA: 99.6%)\n",
            "  - Annotation Clicks (NA: 99.6%)\n",
            "  - Card Clicks (NA: 99.6%)\n",
            "  - Video Views (NA: 95.5%)\n",
            "  - Organic Video Views (NA: 99.2%)\n",
            "  - Paid Video Views (NA: 99.8%)\n",
            "  - Partial Video Views (NA: 99.8%)\n",
            "  - Organic Partial Video Views (NA: 99.8%)\n",
            "  - Paid Partial Video Views (NA: 99.8%)\n",
            "  - Full Video Views (NA: 99.8%)\n",
            "  - Organic Full Video Views (NA: 99.8%)\n",
            "  - Paid Full Video Views (NA: 99.8%)\n",
            "  - Full Video View Rate (NA: 99.5%)\n",
            "  - Follow Video Views (NA: 99.6%)\n",
            "  - For You Video Views (NA: 99.6%)\n",
            "  - Hashtag Video Views (NA: 100.0%)\n",
            "  - Business Account Video Views (NA: 99.6%)\n",
            "  - Others Video Views (NA: 99.6%)\n",
            "  - Search Video Views (NA: 99.6%)\n",
            "  - Sound Video Views (NA: 99.6%)\n",
            "  - Unspecified Video Views (NA: 99.6%)\n",
            "  - Estimated Minutes Watched (NA: 99.6%)\n",
            "  - Video Added to Playlists (NA: 99.6%)\n",
            "  - Subscribers Lost from Video (NA: 99.6%)\n",
            "  - Video Removed from Playlists (NA: 99.6%)\n",
            "  - Average Video Time Watched (Seconds) (NA: 99.3%)\n",
            "  - Poll Votes (NA: 100.0%)\n",
            "\n",
            "================================================================================\n",
            "🤔 OTHER COLUMNS (Review these):\n",
            "================================================================================\n",
            "  - Link (NA: 0.0%)\n",
            "  - Linked Content (NA: 57.8%)\n",
            "  - Story Taps Back (NA: 95.6%)\n",
            "  - Story Taps Forward (NA: 95.6%)\n",
            "  - Story Exits (NA: 95.6%)\n",
            "  - Story Replies (NA: 95.6%)\n",
            "  - Tags (NA: 97.7%)\n"
          ]
        }
      ],
      "source": [
        "# Categorize columns by type\n",
        "all_cols = df.columns.tolist()\n",
        "\n",
        "# PRE-POSTING FEATURES (Safe to use - known before publishing)\n",
        "pre_posting_candidates = [\n",
        "    'Date',           # When posted (time features)\n",
        "    'Network',        # Which platform (X, Instagram, etc.)\n",
        "    'Post Type',      # Type of post (photo, video, link, etc.)\n",
        "    'Content Type',   # Content category\n",
        "    'Profile',        # Which account posted\n",
        "    'Post',           # Caption text (for text features: length, hashtags, etc.)\n",
        "    'Permalink',      # URL (might extract domain info)\n",
        "]\n",
        "\n",
        "# POST-OUTCOME METRICS (LEAKAGE - these are results, not predictors!)\n",
        "post_outcome_keywords = [\n",
        "    'impression', 'reach', 'engagement', 'click', 'like', 'comment', \n",
        "    'share', 'save', 'view', 'follower', 'reaction', 'rate', \n",
        "    'video', 'watch', 'subscriber', 'playlist', 'card', 'annotation',\n",
        "    'vote', 'sent', 'received'\n",
        "]\n",
        "\n",
        "# Identify columns\n",
        "pre_posting_cols = [c for c in all_cols if any(p.lower() in c.lower() for p in ['date', 'network', 'post type', 'content type', 'profile', 'post', 'permalink']) and not any(k in c.lower() for k in post_outcome_keywords)]\n",
        "post_outcome_cols = [c for c in all_cols if any(k in c.lower() for k in post_outcome_keywords)]\n",
        "other_cols = [c for c in all_cols if c not in pre_posting_cols and c not in post_outcome_cols]\n",
        "\n",
        "print(\"=\"*80)\n",
        "print(\"✅ PRE-POSTING FEATURES (Safe to use):\")\n",
        "print(\"=\"*80)\n",
        "for col in pre_posting_cols:\n",
        "    print(f\"  - {col} (NA: {df[col].isna().mean()*100:.1f}%)\")\n",
        "\n",
        "print(\"\\n\" + \"=\"*80)\n",
        "print(\"❌ POST-OUTCOME METRICS (Leakage - DO NOT use as predictors):\")\n",
        "print(\"=\"*80)\n",
        "for col in post_outcome_cols:  # Show first 20\n",
        "    print(f\"  - {col} (NA: {df[col].isna().mean()*100:.1f}%)\")\n",
        "\n",
        "\n",
        "print(\"\\n\" + \"=\"*80)\n",
        "print(\"🤔 OTHER COLUMNS (Review these):\")\n",
        "print(\"=\"*80)\n",
        "for col in other_cols:\n",
        "    print(f\"  - {col} (NA: {df[col].isna().mean()*100:.1f}%)\")\n"
      ]
    },
    {
      "cell_type": "code",
      "execution_count": 129,
      "metadata": {},
      "outputs": [
        {
          "name": "stdout",
          "output_type": "stream",
          "text": [
            "Date            0.0000\n",
            "Network         0.0000\n",
            "Post Type       0.0000\n",
            "Post            2.7152\n",
            "Profile         0.0000\n",
            "Content Type    0.0000\n",
            "dtype: float64\n"
          ]
        }
      ],
      "source": [
        "legit_columns = [\"Date\", \"Network\", \"Post Type\", \"Post\", \"Profile\", \"Content Type\"]\n",
        "\n",
        "nan_values_legit = df[legit_columns].isna().sum()/len(df) * 100 \n",
        "print(nan_values_legit)"
      ]
    },
    {
      "cell_type": "code",
      "execution_count": 130,
      "metadata": {},
      "outputs": [
        {
          "name": "stdout",
          "output_type": "stream",
          "text": [
            "Posts missing caption: 229\n",
            "Date                Network    Post Type  Content Type\n",
            "2/23/2025 7:33 am   Instagram  Story      Photo           5\n",
            "                                          Video           4\n",
            "12/20/2024 6:07 pm  Instagram  Story      Photo           2\n",
            "12/2/2024 9:00 am   Instagram  Story      Photo           2\n",
            "11/15/2024 2:48 pm  Instagram  Story      Photo           2\n",
            "                                                         ..\n",
            "12/27/2024 6:57 am  Instagram  Story      Photo           1\n",
            "12/27/2024 7:19 pm  Instagram  Story      Photo           1\n",
            "12/28/2024 9:00 pm  Instagram  Story      Photo           1\n",
            "12/28/2024 9:18 pm  Instagram  Story      Photo           1\n",
            "9/9/2025 10:02 am   Instagram  Story      Video           1\n",
            "Name: count, Length: 219, dtype: int64\n"
          ]
        }
      ],
      "source": [
        "# Check: Which posts are missing captions?\n",
        "missing_post = df[df['Post'].isna()]\n",
        "print(f\"Posts missing caption: {len(missing_post)}\")\n",
        "print(missing_post[['Date', 'Network', 'Post Type', 'Content Type']].value_counts())"
      ]
    },
    {
      "cell_type": "code",
      "execution_count": 131,
      "metadata": {},
      "outputs": [
        {
          "name": "stdout",
          "output_type": "stream",
          "text": [
            "Missing captions: 229 (2.72%)\n",
            "\n",
            "Missing captions by Post Type:\n",
            "Post Type\n",
            "Story    170\n",
            "Post      57\n",
            "Quote      1\n",
            "Reel       1\n",
            "Name: count, dtype: int64\n",
            "\n",
            "Missing captions by Network:\n",
            "Network\n",
            "Instagram    172\n",
            "Threads       44\n",
            "YouTube        6\n",
            "Facebook       6\n",
            "X              1\n",
            "Name: count, dtype: int64\n",
            "\n",
            "All posts by Post Type:\n",
            "Post Type\n",
            "'@Reply    3958\n",
            "Post       3621\n",
            "Quote       435\n",
            "Story       376\n",
            "Reel         43\n",
            "Pin           1\n",
            "Name: count, dtype: int64\n"
          ]
        }
      ],
      "source": [
        "# 1. How many posts are missing captions?\n",
        "missing_caption = df[df['Post'].isna()]\n",
        "print(f\"Missing captions: {len(missing_caption)} ({len(missing_caption)/len(df)*100:.2f}%)\")\n",
        "\n",
        "# 2. Is it related to Post Type?\n",
        "print(\"\\nMissing captions by Post Type:\")\n",
        "print(missing_caption['Post Type'].value_counts())\n",
        "\n",
        "# 3. Is it related to Network?\n",
        "print(\"\\nMissing captions by Network:\")\n",
        "print(missing_caption['Network'].value_counts())\n",
        "\n",
        "# 4. Compare to posts WITH captions - any pattern?\n",
        "print(\"\\nAll posts by Post Type:\")\n",
        "print(df['Post Type'].value_counts())"
      ]
    },
    {
      "cell_type": "markdown",
      "metadata": {},
      "source": [
        "## Define Target Variable\n",
        "\n",
        "We'll use **Engagement Rate (per Impression)** as our continuous outcome variable to explore. \n",
        "\n",
        "This is a POST-OUTCOME metric (it's what we're trying to predict), so it's the TARGET, not a predictor.\n",
        "\n",
        "We'll examine its distribution, detect outliers, and decide how to binarize later.\n"
      ]
    },
    {
      "cell_type": "code",
      "execution_count": 132,
      "metadata": {},
      "outputs": [
        {
          "name": "stdout",
          "output_type": "stream",
          "text": [
            "Target column dtype: float64\n",
            "Sample values after conversion:\n",
            "0     1.68\n",
            "1    13.20\n",
            "2      NaN\n",
            "3     2.43\n",
            "4     2.04\n",
            "5      NaN\n",
            "6     5.97\n",
            "7      NaN\n",
            "8      NaN\n",
            "9      NaN\n",
            "Name: Engagement Rate (per Impression), dtype: float64\n",
            "\n",
            "Any conversion errors (NaN introduced)?\n",
            "NaN count: 3933\n",
            "================================================================================\n",
            "TARGET VARIABLE ANALYSIS\n",
            "================================================================================\n",
            "\n",
            "Target: Engagement Rate (per Impression)\n",
            "\n",
            "Missing rate: 46.63%\n",
            "\n",
            "Basic statistics:\n",
            "count    4501.000000\n",
            "mean        4.514168\n",
            "std         8.025959\n",
            "min         0.000000\n",
            "25%         0.000000\n",
            "50%         2.160000\n",
            "75%         5.410000\n",
            "max       200.000000\n",
            "Name: Engagement Rate (per Impression), dtype: float64\n",
            "\n",
            "Percentiles:\n",
            "  50th percentile: 2.1600 (50% are above this = potential 'High Performers')\n",
            "  75th percentile: 5.4100 (25% are above this = potential 'High Performers')\n",
            "  80th percentile: 6.6700 (20% are above this = potential 'High Performers')\n",
            "  85th percentile: 8.9600 (15% are above this = potential 'High Performers')\n",
            "  90th percentile: 11.5400 (10% are above this = potential 'High Performers')\n",
            "  95th percentile: 16.6700 (5% are above this = potential 'High Performers')\n",
            "  99th percentile: 33.3300 (1% are above this = potential 'High Performers')\n",
            "\n",
            "================================================================================\n",
            "EXAMPLE ROWS (Pre-Posting Features + Target)\n",
            "================================================================================\n",
            "                  Date    Network Post Type Content Type           Profile  \\\n",
            "0   11/16/2024 3:00 pm    Threads      Post        Video       tuminha_dds   \n",
            "1  12/28/2024 12:47 pm          X   '@Reply        Photo  '@Cisco_research   \n",
            "2    12/7/2021 3:57 pm  Instagram      Post        Photo       tuminha_dds   \n",
            "3    6/19/2025 8:31 pm          X   '@Reply        Photo  '@Cisco_research   \n",
            "4   7/11/2024 10:51 pm          X   '@Reply        Photo  '@Cisco_research   \n",
            "5   12/24/2021 6:56 pm  Instagram      Reel        Video       tuminha_dds   \n",
            "6   11/16/2024 9:30 am    Threads      Post         Text       tuminha_dds   \n",
            "7    8/5/2022 11:13 am  Instagram      Post        Video       tuminha_dds   \n",
            "8    4/1/2021 10:08 am  Instagram      Post        Video       tuminha_dds   \n",
            "9     6/3/2021 8:51 am  Instagram      Post     Carousel       tuminha_dds   \n",
            "\n",
            "   Engagement Rate (per Impression)  \n",
            "0                              1.68  \n",
            "1                             13.20  \n",
            "2                               NaN  \n",
            "3                              2.43  \n",
            "4                              2.04  \n",
            "5                               NaN  \n",
            "6                              5.97  \n",
            "7                               NaN  \n",
            "8                               NaN  \n",
            "9                               NaN  \n"
          ]
        }
      ],
      "source": [
        "# Verify the target column exists and explore its distribution\n",
        "target_col = \"Engagement Rate (per Impression)\"\n",
        "assert target_col in df.columns, f\"Column '{target_col}' not found!\"\n",
        "df[target_col] = df[target_col].str.strip(\"%\")\n",
        "df[target_col] = df[target_col].astype(float)\n",
        "\n",
        "# Verify the conversion worked\n",
        "print(f\"Target column dtype: {df[target_col].dtype}\")\n",
        "print(f\"Sample values after conversion:\")\n",
        "print(df[target_col].head(10))\n",
        "print(f\"\\nAny conversion errors (NaN introduced)?\")\n",
        "print(f\"NaN count: {df[target_col].isna().sum()}\")\n",
        "\n",
        "\n",
        "print(\"=\"*80)\n",
        "print(\"TARGET VARIABLE ANALYSIS\")\n",
        "print(\"=\"*80)\n",
        "print(f\"\\nTarget: {target_col}\")\n",
        "print(f\"\\nMissing rate: {df[target_col].isna().mean()*100:.2f}%\")\n",
        "print(f\"\\nBasic statistics:\")\n",
        "print(df[target_col].describe())\n",
        "\n",
        "print(f\"\\nPercentiles:\")\n",
        "for p in [50, 75, 80, 85, 90, 95, 99]:\n",
        "    val = df[target_col].quantile(p/100)\n",
        "    print(f\"  {p}th percentile: {val:.4f} ({100-p}% are above this = potential 'High Performers')\")\n",
        "\n",
        "# Show a few example rows with the pre-posting features\n",
        "print(\"\\n\" + \"=\"*80)\n",
        "print(\"EXAMPLE ROWS (Pre-Posting Features + Target)\")\n",
        "print(\"=\"*80)\n",
        "display_cols = ['Date', 'Network', 'Post Type', 'Content Type', 'Profile', target_col]\n",
        "available_display = [c for c in display_cols if c in df.columns]\n",
        "print(df[available_display].head(10))\n"
      ]
    },
    {
      "cell_type": "code",
      "execution_count": 133,
      "metadata": {},
      "outputs": [
        {
          "name": "stdout",
          "output_type": "stream",
          "text": [
            "Rows WITH target: 4501 (53.4%)\n",
            "Rows WITHOUT target: 3933 (46.6%)\n",
            "\n",
            "Target availability by Network:\n",
            "Network\n",
            "Facebook     100.000000\n",
            "Instagram     78.359511\n",
            "LinkedIn      10.666667\n",
            "Pinterest      0.000000\n",
            "Threads       99.765533\n",
            "TikTok       100.000000\n",
            "X             45.253211\n",
            "YouTube        0.000000\n",
            "Name: Engagement Rate (per Impression), dtype: float64\n",
            "\n",
            "Target availability by Post Type:\n",
            "Post Type\n",
            "'@Reply    49.949469\n",
            "Pin         0.000000\n",
            "Post       54.681027\n",
            "Quote      29.655172\n",
            "Reel       93.023256\n",
            "Story      99.734043\n",
            "Name: Engagement Rate (per Impression), dtype: float64\n"
          ]
        },
        {
          "name": "stderr",
          "output_type": "stream",
          "text": [
            "/var/folders/cd/2c6x3jgj47j_fwl7231ts7m00000gn/T/ipykernel_41894/3603389667.py:15: UserWarning: Could not infer format, so each element will be parsed individually, falling back to `dateutil`. To ensure parsing is consistent and as-expected, please specify a format.\n",
            "  df['Year'] = pd.to_datetime(df['Date']).dt.year\n"
          ]
        },
        {
          "name": "stdout",
          "output_type": "stream",
          "text": [
            "\n",
            "Target availability by Year:\n",
            "Year\n",
            "2020     0.342466\n",
            "2021     0.070249\n",
            "2022     1.809955\n",
            "2023    35.222672\n",
            "2024    96.007046\n",
            "2025    97.846045\n",
            "Name: Engagement Rate (per Impression), dtype: float64\n"
          ]
        }
      ],
      "source": [
        "# 1. Which rows have the target?\n",
        "has_target = df[target_col].notna()\n",
        "print(f\"Rows WITH target: {has_target.sum()} ({has_target.sum()/len(df)*100:.1f}%)\")\n",
        "print(f\"Rows WITHOUT target: {(~has_target).sum()} ({(~has_target).sum()/len(df)*100:.1f}%)\")\n",
        "\n",
        "# 2. Is it related to Network?\n",
        "print(\"\\nTarget availability by Network:\")\n",
        "print(df.groupby('Network')[target_col].apply(lambda x: x.notna().sum() / len(x) * 100))\n",
        "\n",
        "# 3. Is it related to Post Type?\n",
        "print(\"\\nTarget availability by Post Type:\")\n",
        "print(df.groupby('Post Type')[target_col].apply(lambda x: x.notna().sum() / len(x) * 100))\n",
        "\n",
        "# 4. Is it related to Date? (Maybe older posts don't have this metric?)\n",
        "df['Year'] = pd.to_datetime(df['Date']).dt.year\n",
        "print(\"\\nTarget availability by Year:\")\n",
        "print(df.groupby('Year')[target_col].apply(lambda x: x.notna().sum() / len(x) * 100))"
      ]
    },
    {
      "cell_type": "code",
      "execution_count": 142,
      "metadata": {},
      "outputs": [
        {
          "name": "stdout",
          "output_type": "stream",
          "text": [
            "2024-2025 rows: 4535\n",
            "Percentage of total: 53.8%\n",
            "\n",
            "Posts per Network (2024-2025):\n",
            "Network\n",
            "X            3021\n",
            "Threads       853\n",
            "Instagram     439\n",
            "Facebook       87\n",
            "LinkedIn       75\n",
            "TikTok         36\n",
            "YouTube        23\n",
            "Pinterest       1\n",
            "Name: count, dtype: int64\n",
            "\n",
            "Nan values:\n",
            "Date                                   0\n",
            "Post ID                                0\n",
            "Network                                0\n",
            "Post Type                              0\n",
            "Content Type                           0\n",
            "Profile                                0\n",
            "Sent by                                0\n",
            "Link                                   0\n",
            "Post                                 226\n",
            "Linked Content                      2739\n",
            "Impressions                          128\n",
            "Organic Impressions                 1018\n",
            "Paid Impressions                    4451\n",
            "Reach                               3974\n",
            "Organic Reach                       4013\n",
            "Paid Reach                          4451\n",
            "Potential Reach                     2500\n",
            "Engagement Rate (per Impression)     129\n",
            "Engagements                           39\n",
            "Reactions                            414\n",
            "dtype: int64\n"
          ]
        }
      ],
      "source": [
        "# How much data do you have in 2024-2025?\n",
        "df_2024_2025 = df[df['Year'].isin([2024, 2025])]\n",
        "print(f\"2024-2025 rows: {len(df_2024_2025)}\")\n",
        "print(f\"Percentage of total: {len(df_2024_2025)/len(df)*100:.1f}%\")\n",
        "\n",
        "# How many posts per network in 2024-2025?\n",
        "print(\"\\nPosts per Network (2024-2025):\")\n",
        "print(df_2024_2025['Network'].value_counts())\n",
        "\n",
        "print(\"\\nNan values:\")\n",
        "print(df_2024_2025.isna().sum().head(20))"
      ]
    },
    {
      "cell_type": "code",
      "execution_count": 143,
      "metadata": {},
      "outputs": [
        {
          "name": "stdout",
          "output_type": "stream",
          "text": [
            "Training (2024): 1635 rows\n",
            "Test (2025): 2771 rows\n",
            "Train/Test ratio: 0.59\n"
          ]
        },
        {
          "name": "stderr",
          "output_type": "stream",
          "text": [
            "/var/folders/cd/2c6x3jgj47j_fwl7231ts7m00000gn/T/ipykernel_41894/755170056.py:2: UserWarning: Could not infer format, so each element will be parsed individually, falling back to `dateutil`. To ensure parsing is consistent and as-expected, please specify a format.\n",
            "  df_clean['Date'] = pd.to_datetime(df_clean['Date'])\n"
          ]
        }
      ],
      "source": [
        "df_clean = df[(df['Year'].isin([2024, 2025])) & (df[target_col].notna())].copy()\n",
        "df_clean['Date'] = pd.to_datetime(df_clean['Date'])\n",
        "\n",
        "train = df_clean[df_clean['Year'] == 2024]\n",
        "test = df_clean[df_clean['Year'] == 2025]\n",
        "\n",
        "print(f\"Training (2024): {len(train)} rows\")\n",
        "print(f\"Test (2025): {len(test)} rows\")\n",
        "print(f\"Train/Test ratio: {len(train)/(len(test)+0.001):.2f}\")"
      ]
    },
    {
      "cell_type": "code",
      "execution_count": 144,
      "metadata": {},
      "outputs": [
        {
          "name": "stdout",
          "output_type": "stream",
          "text": [
            "Training (2024 Jan-Sep): 669 rows\n",
            "Validation (2024 Oct-Dec): 966 rows\n",
            "Test (2025): 2771 rows\n"
          ]
        }
      ],
      "source": [
        "train = df_clean[(df_clean['Year'] == 2024) & (df_clean['Date'] < '2024-10-01')]\n",
        "val = df_clean[(df_clean['Year'] == 2024) & (df_clean['Date'] >= '2024-10-01')]\n",
        "test = df_clean[df_clean['Year'] == 2025]\n",
        "\n",
        "print(f\"Training (2024 Jan-Sep): {len(train)} rows\")\n",
        "print(f\"Validation (2024 Oct-Dec): {len(val)} rows\")\n",
        "print(f\"Test (2025): {len(test)} rows\")"
      ]
    },
    {
      "cell_type": "code",
      "execution_count": 145,
      "metadata": {},
      "outputs": [
        {
          "name": "stdout",
          "output_type": "stream",
          "text": [
            "Rows missing Impressions: 0\n",
            "Rows missing Eng Rate: 0\n",
            "Overlap: 0\n"
          ]
        }
      ],
      "source": [
        "# Are they the same rows?\n",
        "no_impressions = df_clean[df_clean['Impressions'].isna()]\n",
        "no_eng_rate = df_clean[df_clean[target_col].isna()]\n",
        "\n",
        "print(f\"Rows missing Impressions: {len(no_impressions)}\")\n",
        "print(f\"Rows missing Eng Rate: {len(no_eng_rate)}\")\n",
        "print(f\"Overlap: {len(no_impressions[no_impressions.index.isin(no_eng_rate.index)])}\")"
      ]
    },
    {
      "cell_type": "code",
      "execution_count": 146,
      "metadata": {},
      "outputs": [
        {
          "data": {
            "image/png": "[encoded data removed]",
            "text/plain": [
              "<Figure size 1200x500 with 1 Axes>"
            ]
          },
          "metadata": {},
          "output_type": "display_data"
        },
        {
          "name": "stdout",
          "output_type": "stream",
          "text": [
            "\n",
            "Posts per month:\n",
            "YearMonth\n",
            "2024-01     13\n",
            "2024-02     31\n",
            "2024-03     16\n",
            "2024-04    102\n",
            "2024-05     68\n",
            "2024-06     68\n",
            "2024-07    137\n",
            "2024-08    125\n",
            "2024-09    109\n",
            "2024-10    114\n",
            "2024-11    307\n",
            "2024-12    545\n",
            "2025-01    222\n",
            "2025-02    165\n",
            "2025-03    159\n",
            "2025-04    311\n",
            "2025-05    249\n",
            "2025-06    367\n",
            "2025-07    473\n",
            "2025-08    340\n",
            "2025-09    244\n",
            "2025-10    241\n",
            "Freq: M, dtype: int64\n"
          ]
        }
      ],
      "source": [
        "# Posts per month over time\n",
        "df_clean['YearMonth'] = pd.to_datetime(df_clean['Date']).dt.to_period('M')\n",
        "posts_per_month = df_clean.groupby('YearMonth').size()\n",
        "\n",
        "import matplotlib.pyplot as plt\n",
        "posts_per_month.plot(kind='line', figsize=(12, 5))\n",
        "plt.title('Posts Per Month Over Time')\n",
        "plt.ylabel('Number of Posts')\n",
        "plt.xlabel('Month')\n",
        "plt.grid(True, alpha=0.3)\n",
        "plt.show()\n",
        "\n",
        "print(\"\\nPosts per month:\")\n",
        "print(posts_per_month)"
      ]
    },
    {
      "cell_type": "code",
      "execution_count": 147,
      "metadata": {},
      "outputs": [],
      "source": [
        "# Use ALL 2024 for training (1,635 rows)\n",
        "# Use part of 2025 for validation (say, Jan-Feb)\n",
        "# Use rest of 2025 for test\n",
        "\n",
        "train = df_clean[df_clean['Year'] == 2024]\n",
        "val = df_clean[(df_clean['Year'] == 2025) & (df_clean['Date'] < '2025-03-01')]\n",
        "test = df_clean[(df_clean['Year'] == 2025) & (df_clean['Date'] >= '2025-03-01')]"
      ]
    },
    {
      "cell_type": "markdown",
      "metadata": {},
      "source": [
        "### Target Distribution Visualization\n",
        "\n",
        "Let's visualize the distribution to choose a defensible threshold for \"High Performer\".\n"
      ]
    },
    {
      "cell_type": "code",
      "execution_count": null,
      "metadata": {},
      "outputs": [],
      "source": [
        "import matplotlib.pyplot as plt\n",
        "import seaborn as sns\n",
        "\n",
        "# Create visualizations\n",
        "fig, axes = plt.subplots(2, 2, figsize=(15, 10))\n",
        "\n",
        "# Remove NaN values for plotting\n",
        "target_clean = df[target_col].dropna()\n",
        "\n",
        "# 1. Histogram\n",
        "axes[0, 0].hist(target_clean, bins=100, edgecolor='black', alpha=0.7)\n",
        "axes[0, 0].set_title(f'Distribution of {target_col}', fontsize=12, fontweight='bold')\n",
        "axes[0, 0].set_xlabel(target_col)\n",
        "axes[0, 0].set_ylabel('Frequency')\n",
        "axes[0, 0].axvline(target_clean.quantile(0.80), color='red', linestyle='--', label='80th percentile')\n",
        "axes[0, 0].axvline(target_clean.quantile(0.90), color='orange', linestyle='--', label='90th percentile')\n",
        "axes[0, 0].legend()\n",
        "\n",
        "# 2. Log-scale histogram (if needed for skewed data)\n",
        "axes[0, 1].hist(target_clean, bins=100, edgecolor='black', alpha=0.7)\n",
        "axes[0, 1].set_title(f'Distribution (Log Scale)', fontsize=12, fontweight='bold')\n",
        "axes[0, 1].set_xlabel(target_col)\n",
        "axes[0, 1].set_ylabel('Frequency (log scale)')\n",
        "axes[0, 1].set_yscale('log')\n",
        "axes[0, 1].axvline(target_clean.quantile(0.80), color='red', linestyle='--', label='80th percentile')\n",
        "axes[0, 1].axvline(target_clean.quantile(0.90), color='orange', linestyle='--', label='90th percentile')\n",
        "axes[0, 1].legend()\n",
        "\n",
        "# 3. Box plot\n",
        "axes[1, 0].boxplot(target_clean, vert=False)\n",
        "axes[1, 0].set_title('Box Plot (shows outliers)', fontsize=12, fontweight='bold')\n",
        "axes[1, 0].set_xlabel(target_col)\n",
        "\n",
        "# 4. CDF (Cumulative Distribution)\n",
        "sorted_vals = np.sort(target_clean)\n",
        "cdf = np.arange(1, len(sorted_vals)+1) / len(sorted_vals)\n",
        "axes[1, 1].plot(sorted_vals, cdf, linewidth=2)\n",
        "axes[1, 1].axhline(0.80, color='red', linestyle='--', label='80th percentile cutoff')\n",
        "axes[1, 1].axhline(0.90, color='orange', linestyle='--', label='90th percentile cutoff')\n",
        "axes[1, 1].set_title('Cumulative Distribution Function', fontsize=12, fontweight='bold')\n",
        "axes[1, 1].set_xlabel(target_col)\n",
        "axes[1, 1].set_ylabel('Cumulative Probability')\n",
        "axes[1, 1].legend()\n",
        "axes[1, 1].grid(True, alpha=0.3)\n",
        "\n",
        "plt.tight_layout()\n",
        "plt.show()\n",
        "\n",
        "print(\"\\n\" + \"=\"*80)\n",
        "print(\"INTERPRETATION GUIDE\")\n",
        "print(\"=\"*80)\n",
        "print(\"\"\"\n",
        "- Look at the distribution shape: Is it skewed? Are there outliers?\n",
        "- Choose a percentile that separates 'High Performers' from 'Regular' posts\n",
        "- Common choices:\n",
        "  • 80th percentile = top 20% are \"High Performers\" (balanced)\n",
        "  • 85th percentile = top 15% are \"High Performers\" (more selective)\n",
        "  • 90th percentile = top 10% are \"High Performers\" (very selective)\n",
        "  \n",
        "Your choice should balance:\n",
        "  1. Business value (catching enough high performers)\n",
        "  2. Model difficulty (not too imbalanced)\n",
        "  3. Interpretability (clear cutoff)\n",
        "\"\"\")\n"
      ]
    },
    {
      "cell_type": "markdown",
      "metadata": {},
      "source": [
        "## Identify Pre-Posting Features (No Leakage)\n",
        "\n",
        "We will use **only features knowable before pressing publish**:\n",
        "\n",
        "- Network, Post Type, Content Type, Profile (categorical)\n",
        "- Posting timestamp → hour, weekday, month, season, year\n",
        "- Caption text (Post): length, hashtag_count, mention_count, url_count\n",
        "- Optional: rolling account-level activity windows (past 7/30/90 days aggregates) **computed from history prior to each post** (avoid peeking into future)\n",
        "\n",
        "We explicitly **exclude**: impressions, reach, engagements, clicks, video views, saves, shares, etc. Any feature derived from those would leak.\n"
      ]
    },
    {
      "cell_type": "code",
      "execution_count": null,
      "metadata": {},
      "outputs": [],
      "source": [
        "# TODO: parse date; keep only necessary columns at this stage\n",
        "# - Parse 'Date' to datetime\n",
        "# - Strip/normalize categorical text\n",
        "# - Create a clean frame df_clean with a subset of columns we might use\n",
        "# HINTS:\n",
        "# df['Date'] = pd.to_datetime(df['Date'], errors='coerce')\n",
        "# df['Network'] = df['Network'].str.strip()\n",
        "# df['Post Type'] = df['Post Type'].str.strip()\n",
        "# df['Content Type'] = df['Content Type'].str.strip()\n",
        "# df['Profile'] = df['Profile'].str.strip()\n"
      ]
    },
    {
      "cell_type": "markdown",
      "metadata": {},
      "source": [
        "## Feature Engineering (Pre-Posting Only)\n",
        "\n",
        "We derive engineered features and keep an explicit list of predictors.\n"
      ]
    },
    {
      "cell_type": "code",
      "execution_count": null,
      "metadata": {},
      "outputs": [],
      "source": [
        "# TODO: implement feature builders in src/features.py and call them here\n",
        "# - time features: hour, weekday, month, is_weekend\n",
        "# - text features from 'Post': char_len, word_len, hashtag_count (#...), mention_count (@...), url_count (http/https), emoji_count (optional)\n",
        "# - categorical encodings: one-hot or ordinal for Network, Post Type, Content Type, Profile\n",
        "# - OPTIONAL: lag features by Profile (e.g., past-30-day posting frequency) — careful with temporal leakage\n",
        "# HINTS:\n",
        "# df_feat = features.build_preposting_features(df)\n",
        "# predictors = [...]  # set by your builder\n"
      ]
    },
    {
      "cell_type": "markdown",
      "metadata": {},
      "source": [
        "## Train/Test Split Strategy (Temporal)\n",
        "\n",
        "We simulate production by training on **past**, testing on **future**.  \n",
        "\n",
        "Proposed split: Train on posts dated ≤ 2024-12-31; Test on posts dated ≥ 2025-01-01.\n"
      ]
    },
    {
      "cell_type": "code",
      "execution_count": null,
      "metadata": {},
      "outputs": [],
      "source": [
        "# TODO: implement temporal split\n",
        "# cutoff = pd.Timestamp(\"2025-01-01\")\n",
        "# train_idx = df_feat['Date'] < cutoff\n",
        "# test_idx  = df_feat['Date'] >= cutoff\n",
        "# X_train, X_test = df_feat.loc[train_idx, predictors], df_feat.loc[test_idx, predictors]\n",
        "# y_cont_train = df.loc[train_idx, target_col]\n",
        "# y_cont_test  = df.loc[test_idx, target_col]\n"
      ]
    },
    {
      "cell_type": "markdown",
      "metadata": {},
      "source": [
        "## Choose Binary Threshold During EDA\n",
        "\n",
        "From the **training set only**, pick a threshold rule:\n",
        "\n",
        "- Percentile (e.g., top 20% engagement rate ⇒ label 1)\n",
        "- Or a data-driven mixture/robust rule\n",
        "\n",
        "We never use test data to define the threshold.\n"
      ]
    },
    {
      "cell_type": "code",
      "execution_count": null,
      "metadata": {},
      "outputs": [],
      "source": [
        "# TODO: implement make_label_from_percentile in src/labeling.py and apply to y_cont_train\n",
        "# pct = 0.80  # example; tune after inspecting distribution\n",
        "# y_train = labeling.make_label_from_percentile(y_cont_train, pct=pct)\n",
        "# y_test  = (y_cont_test >= y_cont_train.quantile(pct)).astype(int)  # use train threshold for test\n",
        "# Check positivity rate\n"
      ]
    },
    {
      "cell_type": "markdown",
      "metadata": {},
      "source": [
        "## Baseline Models (Sanity)\n",
        "\n",
        "Establish simple baselines:\n",
        "\n",
        "- Majority class\n",
        "- Logistic Regression (quick baseline)\n",
        "\n",
        "We expect low but non-zero performance.\n"
      ]
    },
    {
      "cell_type": "code",
      "execution_count": null,
      "metadata": {},
      "outputs": [],
      "source": [
        "# TODO: majority baseline metrics; then fit LogisticRegression with simple preprocessing (OneHot for categoricals)\n",
        "# HINT: use ColumnTransformer + Pipeline; score ROC-AUC, PR-AUC, F1\n"
      ]
    },
    {
      "cell_type": "markdown",
      "metadata": {},
      "source": [
        "## Tree Ensembles (RF, XGBoost)\n",
        "\n",
        "Main family: tree ensembles.  \n",
        "\n",
        "We'll start with untuned models, then GridSearchCV on key hyperparameters.\n"
      ]
    },
    {
      "cell_type": "code",
      "execution_count": null,
      "metadata": {},
      "outputs": [],
      "source": [
        "# TODO: fit RandomForestClassifier and XGBClassifier with default-ish params\n",
        "# - Compute predicted probabilities on test\n",
        "# - Evaluate ROC-AUC and PR-AUC\n"
      ]
    },
    {
      "cell_type": "markdown",
      "metadata": {},
      "source": [
        "## Hyperparameter Tuning\n",
        "\n",
        "Use GridSearchCV (or RandomizedSearchCV) with **Stratified K-Fold** on the training set.  \n",
        "\n",
        "Keep the search space realistic (you have many rows).\n"
      ]
    },
    {
      "cell_type": "code",
      "execution_count": null,
      "metadata": {},
      "outputs": [],
      "source": [
        "# TODO: GridSearchCV for RF and XGB\n",
        "# HINTS:\n",
        "# - RF: n_estimators, max_depth, min_samples_split, max_features\n",
        "# - XGB: n_estimators, max_depth, learning_rate, subsample, colsample_bytree, reg_alpha, reg_lambda\n",
        "# - Use scoring='average_precision' or 'roc_auc'\n",
        "# Save best params to artifacts\n"
      ]
    },
    {
      "cell_type": "markdown",
      "metadata": {},
      "source": [
        "## Threshold Tuning for Business Goal\n",
        "\n",
        "Business objective: **maximize recall of High Performers** at an acceptable precision.  \n",
        "\n",
        "We'll tune the decision threshold on validation folds or on the train set via cross-val predictions.\n"
      ]
    },
    {
      "cell_type": "code",
      "execution_count": null,
      "metadata": {},
      "outputs": [],
      "source": [
        "# TODO: produce y_proba on the validation (or test) set, then scan thresholds\n",
        "# Choose a threshold that achieves target recall (e.g., ≥ 0.75) with the highest precision\n",
        "# evaluation.threshold_by_recall(...)\n",
        "# Report threshold, precision, recall, F1\n"
      ]
    },
    {
      "cell_type": "markdown",
      "metadata": {},
      "source": [
        "## Final Evaluation (Test)\n",
        "\n",
        "Lock the threshold and evaluate on the test period.  \n",
        "\n",
        "Report: ROC-AUC, PR-AUC, Precision, Recall, F1, Confusion Matrix. Plot ROC & PR curves.\n"
      ]
    },
    {
      "cell_type": "code",
      "execution_count": null,
      "metadata": {},
      "outputs": [],
      "source": [
        "# TODO: compute and print metrics; plot ROC and PR curves; show confusion matrix\n",
        "# Save figures to artifacts\n"
      ]
    },
    {
      "cell_type": "markdown",
      "metadata": {},
      "source": [
        "## Feature Importance & Explainability\n",
        "\n",
        "Compute feature importances (model-based) and optionally SHAP to interpret key drivers.  \n",
        "\n",
        "Explain what matters: time-of-day? network? content type? caption length?\n"
      ]
    },
    {
      "cell_type": "code",
      "execution_count": null,
      "metadata": {},
      "outputs": [],
      "source": [
        "# TODO: model.feature_importances_ (RF/XGB). Optional: SHAP summary plot.\n",
        "# Save importance table to artifacts\n"
      ]
    },
    {
      "cell_type": "markdown",
      "metadata": {},
      "source": [
        "## Robustness Checks\n",
        "\n",
        "- Year-by-year performance stability  \n",
        "- Per-network slices (X vs Instagram vs Threads)  \n",
        "- Per-profile slices\n"
      ]
    },
    {
      "cell_type": "code",
      "execution_count": null,
      "metadata": {},
      "outputs": [],
      "source": [
        "# TODO: compute metrics by Network and by Profile on test set\n",
        "# HINT: loop over unique groups; filter and re-evaluate with the fixed threshold\n"
      ]
    },
    {
      "cell_type": "markdown",
      "metadata": {},
      "source": [
        "## Conclusions\n",
        "\n",
        "- What did we learn about drivers of high performance?\n",
        "- Are results as expected?\n",
        "- Business trade-offs for threshold choice (recall vs precision)\n",
        "- Next steps: richer text features, topic modeling, uplift vs baseline scheduling, online learning\n"
      ]
    },
    {
      "cell_type": "code",
      "execution_count": null,
      "metadata": {},
      "outputs": [],
      "source": [
        "# TODO: persist: best params JSON, chosen threshold, metrics JSON, importance CSVs\n",
        "# HINT: use json.dump(...) and df.to_csv(...)\n"
      ]
    }
  ],
  "metadata": {
    "kernelspec": {
      "display_name": "Codecademy ML",
      "language": "python",
      "name": "codeacademy"
    },
    "language_info": {
      "codemirror_mode": {
        "name": "ipython",
        "version": 3
      },
      "file_extension": ".py",
      "mimetype": "text/x-python",
      "name": "python",
      "nbconvert_exporter": "python",
      "pygments_lexer": "ipython3",
      "version": "3.11.7"
    }
  },
  "nbformat": 4,
  "nbformat_minor": 2
}
